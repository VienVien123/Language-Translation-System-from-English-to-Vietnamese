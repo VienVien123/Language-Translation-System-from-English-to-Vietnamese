{
 "cells": [
  {
   "cell_type": "code",
   "execution_count": 3,
   "metadata": {},
   "outputs": [
    {
     "name": "stdout",
     "output_type": "stream",
     "text": [
      "Requirement already satisfied: torch in c:\\users\\vi120\\appdata\\local\\programs\\python\\python310\\lib\\site-packages (2.5.1)\n",
      "Requirement already satisfied: fsspec in c:\\users\\vi120\\appdata\\local\\programs\\python\\python310\\lib\\site-packages (from torch) (2024.12.0)\n",
      "Requirement already satisfied: typing-extensions>=4.8.0 in c:\\users\\vi120\\appdata\\roaming\\python\\python310\\site-packages (from torch) (4.12.2)\n",
      "Requirement already satisfied: filelock in c:\\users\\vi120\\appdata\\local\\programs\\python\\python310\\lib\\site-packages (from torch) (3.16.1)\n",
      "Requirement already satisfied: sympy==1.13.1 in c:\\users\\vi120\\appdata\\local\\programs\\python\\python310\\lib\\site-packages (from torch) (1.13.1)\n",
      "Requirement already satisfied: networkx in c:\\users\\vi120\\appdata\\local\\programs\\python\\python310\\lib\\site-packages (from torch) (3.4.2)\n",
      "Requirement already satisfied: jinja2 in c:\\users\\vi120\\appdata\\local\\programs\\python\\python310\\lib\\site-packages (from torch) (3.1.4)\n",
      "Requirement already satisfied: mpmath<1.4,>=1.1.0 in c:\\users\\vi120\\appdata\\local\\programs\\python\\python310\\lib\\site-packages (from sympy==1.13.1->torch) (1.3.0)\n",
      "Requirement already satisfied: MarkupSafe>=2.0 in c:\\users\\vi120\\appdata\\local\\programs\\python\\python310\\lib\\site-packages (from jinja2->torch) (3.0.2)\n"
     ]
    },
    {
     "name": "stderr",
     "output_type": "stream",
     "text": [
      "WARNING: You are using pip version 21.2.3; however, version 24.3.1 is available.\n",
      "You should consider upgrading via the 'C:\\Users\\vi120\\AppData\\Local\\Programs\\Python\\Python310\\python.exe -m pip install --upgrade pip' command.\n"
     ]
    }
   ],
   "source": [
    "!pip install torch"
   ]
  },
  {
   "cell_type": "code",
   "execution_count": 45,
   "metadata": {},
   "outputs": [],
   "source": [
    "import pandas as pd\n",
    "import numpy as np\n",
    "import string\n",
    "import re\n",
    "import matplotlib.pyplot as plt \n",
    "from underthesea import word_tokenize\n",
    "import nltk\n",
    "from nltk.tokenize import word_tokenize as wt\n",
    "from sklearn.model_selection import train_test_split"
   ]
  },
  {
   "cell_type": "markdown",
   "metadata": {},
   "source": [
    "# read data"
   ]
  },
  {
   "cell_type": "code",
   "execution_count": 6,
   "metadata": {},
   "outputs": [
    {
     "name": "stderr",
     "output_type": "stream",
     "text": [
      "C:\\Users\\vi120\\AppData\\Local\\Temp\\ipykernel_19000\\3503274264.py:1: ParserWarning: Falling back to the 'python' engine because the 'c' engine does not support regex separators (separators > 1 char and different from '\\s+' are interpreted as regex); you can avoid this warning by specifying engine='python'.\n",
      "  vi=pd.read_csv('./vi_sents/vi_sents.txt', delimiter='/t',header=None,names=['vietnamese'])\n",
      "C:\\Users\\vi120\\AppData\\Local\\Temp\\ipykernel_19000\\3503274264.py:2: ParserWarning: Falling back to the 'python' engine because the 'c' engine does not support regex separators (separators > 1 char and different from '\\s+' are interpreted as regex); you can avoid this warning by specifying engine='python'.\n",
      "  en=pd.read_csv('./en_sents/en_sents.txt',delimiter='/t',header=None,names=['english'])\n"
     ]
    }
   ],
   "source": [
    "vi=pd.read_csv('./vi_sents/vi_sents.txt', delimiter='/t',header=None,names=['vietnamese'])\n",
    "en=pd.read_csv('./en_sents/en_sents.txt',delimiter='/t',header=None,names=['english'])"
   ]
  },
  {
   "cell_type": "code",
   "execution_count": 7,
   "metadata": {},
   "outputs": [],
   "source": [
    "df=pd.concat([en,vi],axis=1)"
   ]
  },
  {
   "cell_type": "code",
   "execution_count": 8,
   "metadata": {},
   "outputs": [
    {
     "data": {
      "text/plain": [
       "(254090, 2)"
      ]
     },
     "execution_count": 8,
     "metadata": {},
     "output_type": "execute_result"
    }
   ],
   "source": [
    "df.shape"
   ]
  },
  {
   "cell_type": "markdown",
   "metadata": {},
   "source": [
    "# eda"
   ]
  },
  {
   "cell_type": "code",
   "execution_count": 9,
   "metadata": {},
   "outputs": [
    {
     "data": {
      "text/html": [
       "<div>\n",
       "<style scoped>\n",
       "    .dataframe tbody tr th:only-of-type {\n",
       "        vertical-align: middle;\n",
       "    }\n",
       "\n",
       "    .dataframe tbody tr th {\n",
       "        vertical-align: top;\n",
       "    }\n",
       "\n",
       "    .dataframe thead th {\n",
       "        text-align: right;\n",
       "    }\n",
       "</style>\n",
       "<table border=\"1\" class=\"dataframe\">\n",
       "  <thead>\n",
       "    <tr style=\"text-align: right;\">\n",
       "      <th></th>\n",
       "      <th>english</th>\n",
       "      <th>vietnamese</th>\n",
       "    </tr>\n",
       "  </thead>\n",
       "  <tbody>\n",
       "    <tr>\n",
       "      <th>0</th>\n",
       "      <td>Please put the dustpan in the broom closet</td>\n",
       "      <td>xin vui lòng đặt người quét rác trong tủ chổi</td>\n",
       "    </tr>\n",
       "    <tr>\n",
       "      <th>1</th>\n",
       "      <td>Be quiet for a moment.</td>\n",
       "      <td>im lặng một lát</td>\n",
       "    </tr>\n",
       "    <tr>\n",
       "      <th>2</th>\n",
       "      <td>Read this</td>\n",
       "      <td>đọc này</td>\n",
       "    </tr>\n",
       "    <tr>\n",
       "      <th>3</th>\n",
       "      <td>Tom persuaded the store manager to give him ba...</td>\n",
       "      <td>tom thuyết phục người quản lý cửa hàng trả lại...</td>\n",
       "    </tr>\n",
       "    <tr>\n",
       "      <th>4</th>\n",
       "      <td>Friendship consists of mutual understanding</td>\n",
       "      <td>tình bạn bao gồm sự hiểu biết lẫn nhau</td>\n",
       "    </tr>\n",
       "    <tr>\n",
       "      <th>...</th>\n",
       "      <td>...</td>\n",
       "      <td>...</td>\n",
       "    </tr>\n",
       "    <tr>\n",
       "      <th>254085</th>\n",
       "      <td>What sound does a sheep make?</td>\n",
       "      <td>một con cừu tạo ra âm thanh gì?</td>\n",
       "    </tr>\n",
       "    <tr>\n",
       "      <th>254086</th>\n",
       "      <td>Tom stayed in Boston for three months.</td>\n",
       "      <td>Tom ở lại boston trong ba tháng.</td>\n",
       "    </tr>\n",
       "    <tr>\n",
       "      <th>254087</th>\n",
       "      <td>Tom borrowed $300 from Mary</td>\n",
       "      <td>tom đã vay $ 300 từ mary</td>\n",
       "    </tr>\n",
       "    <tr>\n",
       "      <th>254088</th>\n",
       "      <td>Why aren't you interested?</td>\n",
       "      <td>tại sao bạn không quan tâm?</td>\n",
       "    </tr>\n",
       "    <tr>\n",
       "      <th>254089</th>\n",
       "      <td>You were at my wedding</td>\n",
       "      <td>bạn đã ở đám cưới của tôi</td>\n",
       "    </tr>\n",
       "  </tbody>\n",
       "</table>\n",
       "<p>254090 rows × 2 columns</p>\n",
       "</div>"
      ],
      "text/plain": [
       "                                                  english  \\\n",
       "0              Please put the dustpan in the broom closet   \n",
       "1                                  Be quiet for a moment.   \n",
       "2                                               Read this   \n",
       "3       Tom persuaded the store manager to give him ba...   \n",
       "4             Friendship consists of mutual understanding   \n",
       "...                                                   ...   \n",
       "254085                      What sound does a sheep make?   \n",
       "254086             Tom stayed in Boston for three months.   \n",
       "254087                        Tom borrowed $300 from Mary   \n",
       "254088                         Why aren't you interested?   \n",
       "254089                             You were at my wedding   \n",
       "\n",
       "                                               vietnamese  \n",
       "0           xin vui lòng đặt người quét rác trong tủ chổi  \n",
       "1                                         im lặng một lát  \n",
       "2                                                 đọc này  \n",
       "3       tom thuyết phục người quản lý cửa hàng trả lại...  \n",
       "4                  tình bạn bao gồm sự hiểu biết lẫn nhau  \n",
       "...                                                   ...  \n",
       "254085                    một con cừu tạo ra âm thanh gì?  \n",
       "254086                   Tom ở lại boston trong ba tháng.  \n",
       "254087                           tom đã vay $ 300 từ mary  \n",
       "254088                        tại sao bạn không quan tâm?  \n",
       "254089                          bạn đã ở đám cưới của tôi  \n",
       "\n",
       "[254090 rows x 2 columns]"
      ]
     },
     "execution_count": 9,
     "metadata": {},
     "output_type": "execute_result"
    }
   ],
   "source": [
    "df.dropna()"
   ]
  },
  {
   "cell_type": "code",
   "execution_count": 11,
   "metadata": {},
   "outputs": [
    {
     "data": {
      "text/html": [
       "<div>\n",
       "<style scoped>\n",
       "    .dataframe tbody tr th:only-of-type {\n",
       "        vertical-align: middle;\n",
       "    }\n",
       "\n",
       "    .dataframe tbody tr th {\n",
       "        vertical-align: top;\n",
       "    }\n",
       "\n",
       "    .dataframe thead th {\n",
       "        text-align: right;\n",
       "    }\n",
       "</style>\n",
       "<table border=\"1\" class=\"dataframe\">\n",
       "  <thead>\n",
       "    <tr style=\"text-align: right;\">\n",
       "      <th></th>\n",
       "      <th>english</th>\n",
       "      <th>vietnamese</th>\n",
       "    </tr>\n",
       "  </thead>\n",
       "  <tbody>\n",
       "    <tr>\n",
       "      <th>0</th>\n",
       "      <td>Please put the dustpan in the broom closet</td>\n",
       "      <td>xin vui lòng đặt người quét rác trong tủ chổi</td>\n",
       "    </tr>\n",
       "    <tr>\n",
       "      <th>1</th>\n",
       "      <td>Be quiet for a moment.</td>\n",
       "      <td>im lặng một lát</td>\n",
       "    </tr>\n",
       "    <tr>\n",
       "      <th>2</th>\n",
       "      <td>Read this</td>\n",
       "      <td>đọc này</td>\n",
       "    </tr>\n",
       "    <tr>\n",
       "      <th>3</th>\n",
       "      <td>Tom persuaded the store manager to give him ba...</td>\n",
       "      <td>tom thuyết phục người quản lý cửa hàng trả lại...</td>\n",
       "    </tr>\n",
       "    <tr>\n",
       "      <th>4</th>\n",
       "      <td>Friendship consists of mutual understanding</td>\n",
       "      <td>tình bạn bao gồm sự hiểu biết lẫn nhau</td>\n",
       "    </tr>\n",
       "  </tbody>\n",
       "</table>\n",
       "</div>"
      ],
      "text/plain": [
       "                                             english  \\\n",
       "0         Please put the dustpan in the broom closet   \n",
       "1                             Be quiet for a moment.   \n",
       "2                                          Read this   \n",
       "3  Tom persuaded the store manager to give him ba...   \n",
       "4        Friendship consists of mutual understanding   \n",
       "\n",
       "                                          vietnamese  \n",
       "0      xin vui lòng đặt người quét rác trong tủ chổi  \n",
       "1                                    im lặng một lát  \n",
       "2                                            đọc này  \n",
       "3  tom thuyết phục người quản lý cửa hàng trả lại...  \n",
       "4             tình bạn bao gồm sự hiểu biết lẫn nhau  "
      ]
     },
     "execution_count": 11,
     "metadata": {},
     "output_type": "execute_result"
    }
   ],
   "source": [
    "df.head()"
   ]
  },
  {
   "cell_type": "code",
   "execution_count": 12,
   "metadata": {},
   "outputs": [
    {
     "name": "stdout",
     "output_type": "stream",
     "text": [
      "<class 'pandas.core.frame.DataFrame'>\n",
      "RangeIndex: 254090 entries, 0 to 254089\n",
      "Data columns (total 2 columns):\n",
      " #   Column      Non-Null Count   Dtype \n",
      "---  ------      --------------   ----- \n",
      " 0   english     254090 non-null  object\n",
      " 1   vietnamese  254090 non-null  object\n",
      "dtypes: object(2)\n",
      "memory usage: 3.9+ MB\n"
     ]
    }
   ],
   "source": [
    "df.info()"
   ]
  },
  {
   "cell_type": "code",
   "execution_count": 13,
   "metadata": {},
   "outputs": [
    {
     "data": {
      "text/html": [
       "<div>\n",
       "<style scoped>\n",
       "    .dataframe tbody tr th:only-of-type {\n",
       "        vertical-align: middle;\n",
       "    }\n",
       "\n",
       "    .dataframe tbody tr th {\n",
       "        vertical-align: top;\n",
       "    }\n",
       "\n",
       "    .dataframe thead th {\n",
       "        text-align: right;\n",
       "    }\n",
       "</style>\n",
       "<table border=\"1\" class=\"dataframe\">\n",
       "  <thead>\n",
       "    <tr style=\"text-align: right;\">\n",
       "      <th></th>\n",
       "      <th>english</th>\n",
       "      <th>vietnamese</th>\n",
       "    </tr>\n",
       "  </thead>\n",
       "  <tbody>\n",
       "    <tr>\n",
       "      <th>0</th>\n",
       "      <td>Please put the dustpan in the broom closet</td>\n",
       "      <td>xin vui lòng đặt người quét rác trong tủ chổi</td>\n",
       "    </tr>\n",
       "  </tbody>\n",
       "</table>\n",
       "</div>"
      ],
      "text/plain": [
       "                                      english  \\\n",
       "0  Please put the dustpan in the broom closet   \n",
       "\n",
       "                                      vietnamese  \n",
       "0  xin vui lòng đặt người quét rác trong tủ chổi  "
      ]
     },
     "execution_count": 13,
     "metadata": {},
     "output_type": "execute_result"
    }
   ],
   "source": [
    "df.head(1)"
   ]
  },
  {
   "cell_type": "code",
   "execution_count": 14,
   "metadata": {},
   "outputs": [],
   "source": [
    "df=df.dropna()"
   ]
  },
  {
   "cell_type": "code",
   "execution_count": 15,
   "metadata": {},
   "outputs": [],
   "source": [
    "df=df.drop_duplicates()"
   ]
  },
  {
   "cell_type": "code",
   "execution_count": 16,
   "metadata": {},
   "outputs": [
    {
     "data": {
      "text/plain": [
       "(254080, 2)"
      ]
     },
     "execution_count": 16,
     "metadata": {},
     "output_type": "execute_result"
    }
   ],
   "source": [
    "df.shape"
   ]
  },
  {
   "cell_type": "code",
   "execution_count": 17,
   "metadata": {},
   "outputs": [
    {
     "data": {
      "text/html": [
       "<div>\n",
       "<style scoped>\n",
       "    .dataframe tbody tr th:only-of-type {\n",
       "        vertical-align: middle;\n",
       "    }\n",
       "\n",
       "    .dataframe tbody tr th {\n",
       "        vertical-align: top;\n",
       "    }\n",
       "\n",
       "    .dataframe thead th {\n",
       "        text-align: right;\n",
       "    }\n",
       "</style>\n",
       "<table border=\"1\" class=\"dataframe\">\n",
       "  <thead>\n",
       "    <tr style=\"text-align: right;\">\n",
       "      <th></th>\n",
       "      <th>english</th>\n",
       "      <th>vietnamese</th>\n",
       "    </tr>\n",
       "  </thead>\n",
       "  <tbody>\n",
       "    <tr>\n",
       "      <th>count</th>\n",
       "      <td>254080</td>\n",
       "      <td>254080</td>\n",
       "    </tr>\n",
       "    <tr>\n",
       "      <th>unique</th>\n",
       "      <td>254080</td>\n",
       "      <td>244007</td>\n",
       "    </tr>\n",
       "    <tr>\n",
       "      <th>top</th>\n",
       "      <td>Tom was standing just in front of a large buil...</td>\n",
       "      <td>điều đó thật tuyệt</td>\n",
       "    </tr>\n",
       "    <tr>\n",
       "      <th>freq</th>\n",
       "      <td>1</td>\n",
       "      <td>14</td>\n",
       "    </tr>\n",
       "  </tbody>\n",
       "</table>\n",
       "</div>"
      ],
      "text/plain": [
       "                                                  english          vietnamese\n",
       "count                                              254080              254080\n",
       "unique                                             254080              244007\n",
       "top     Tom was standing just in front of a large buil...  điều đó thật tuyệt\n",
       "freq                                                    1                  14"
      ]
     },
     "execution_count": 17,
     "metadata": {},
     "output_type": "execute_result"
    }
   ],
   "source": [
    "df.describe()"
   ]
  },
  {
   "cell_type": "markdown",
   "metadata": {},
   "source": [
    "## find the top sentence in column vietnamese"
   ]
  },
  {
   "cell_type": "code",
   "execution_count": 18,
   "metadata": {},
   "outputs": [
    {
     "data": {
      "text/html": [
       "<div>\n",
       "<style scoped>\n",
       "    .dataframe tbody tr th:only-of-type {\n",
       "        vertical-align: middle;\n",
       "    }\n",
       "\n",
       "    .dataframe tbody tr th {\n",
       "        vertical-align: top;\n",
       "    }\n",
       "\n",
       "    .dataframe thead th {\n",
       "        text-align: right;\n",
       "    }\n",
       "</style>\n",
       "<table border=\"1\" class=\"dataframe\">\n",
       "  <thead>\n",
       "    <tr style=\"text-align: right;\">\n",
       "      <th></th>\n",
       "      <th>english</th>\n",
       "      <th>vietnamese</th>\n",
       "    </tr>\n",
       "  </thead>\n",
       "  <tbody>\n",
       "    <tr>\n",
       "      <th>13374</th>\n",
       "      <td>That's just awesome</td>\n",
       "      <td>điều đó thật tuyệt</td>\n",
       "    </tr>\n",
       "    <tr>\n",
       "      <th>14947</th>\n",
       "      <td>That's very nice.</td>\n",
       "      <td>điều đó thật tuyệt</td>\n",
       "    </tr>\n",
       "    <tr>\n",
       "      <th>45070</th>\n",
       "      <td>That wasn't nice.</td>\n",
       "      <td>điều đó thật tuyệt</td>\n",
       "    </tr>\n",
       "    <tr>\n",
       "      <th>56957</th>\n",
       "      <td>This is great</td>\n",
       "      <td>điều đó thật tuyệt</td>\n",
       "    </tr>\n",
       "    <tr>\n",
       "      <th>87441</th>\n",
       "      <td>That's real nice</td>\n",
       "      <td>điều đó thật tuyệt</td>\n",
       "    </tr>\n",
       "    <tr>\n",
       "      <th>91445</th>\n",
       "      <td>That would've been nice</td>\n",
       "      <td>điều đó thật tuyệt</td>\n",
       "    </tr>\n",
       "    <tr>\n",
       "      <th>145935</th>\n",
       "      <td>That was great.</td>\n",
       "      <td>điều đó thật tuyệt</td>\n",
       "    </tr>\n",
       "    <tr>\n",
       "      <th>171954</th>\n",
       "      <td>That's kind of nice</td>\n",
       "      <td>điều đó thật tuyệt</td>\n",
       "    </tr>\n",
       "    <tr>\n",
       "      <th>175117</th>\n",
       "      <td>That would be cool.</td>\n",
       "      <td>điều đó thật tuyệt</td>\n",
       "    </tr>\n",
       "    <tr>\n",
       "      <th>182073</th>\n",
       "      <td>That wasn't cool.</td>\n",
       "      <td>điều đó thật tuyệt</td>\n",
       "    </tr>\n",
       "    <tr>\n",
       "      <th>214885</th>\n",
       "      <td>That's pretty nice.</td>\n",
       "      <td>điều đó thật tuyệt</td>\n",
       "    </tr>\n",
       "    <tr>\n",
       "      <th>215316</th>\n",
       "      <td>That's pretty cool</td>\n",
       "      <td>điều đó thật tuyệt</td>\n",
       "    </tr>\n",
       "    <tr>\n",
       "      <th>236791</th>\n",
       "      <td>That's just great</td>\n",
       "      <td>điều đó thật tuyệt</td>\n",
       "    </tr>\n",
       "    <tr>\n",
       "      <th>243593</th>\n",
       "      <td>That would've been awesome</td>\n",
       "      <td>điều đó thật tuyệt</td>\n",
       "    </tr>\n",
       "  </tbody>\n",
       "</table>\n",
       "</div>"
      ],
      "text/plain": [
       "                           english          vietnamese\n",
       "13374          That's just awesome  điều đó thật tuyệt\n",
       "14947            That's very nice.  điều đó thật tuyệt\n",
       "45070            That wasn't nice.  điều đó thật tuyệt\n",
       "56957                This is great  điều đó thật tuyệt\n",
       "87441             That's real nice  điều đó thật tuyệt\n",
       "91445      That would've been nice  điều đó thật tuyệt\n",
       "145935             That was great.  điều đó thật tuyệt\n",
       "171954         That's kind of nice  điều đó thật tuyệt\n",
       "175117         That would be cool.  điều đó thật tuyệt\n",
       "182073           That wasn't cool.  điều đó thật tuyệt\n",
       "214885         That's pretty nice.  điều đó thật tuyệt\n",
       "215316          That's pretty cool  điều đó thật tuyệt\n",
       "236791           That's just great  điều đó thật tuyệt\n",
       "243593  That would've been awesome  điều đó thật tuyệt"
      ]
     },
     "execution_count": 18,
     "metadata": {},
     "output_type": "execute_result"
    }
   ],
   "source": [
    "df.query('vietnamese==\"điều đó thật tuyệt\"')"
   ]
  },
  {
   "cell_type": "markdown",
   "metadata": {},
   "source": [
    "## find the sentens duplicate in column vietnamese"
   ]
  },
  {
   "cell_type": "code",
   "execution_count": 19,
   "metadata": {},
   "outputs": [
    {
     "name": "stdout",
     "output_type": "stream",
     "text": [
      "vietnamese\n",
      "điều đó thật tuyệt              14\n",
      "tôi rất vui được gặp bạn        11\n",
      "bạn thật tuyệt vời              11\n",
      "tôi không biết phải làm gì      10\n",
      "bạn sẽ ổn thôi                  10\n",
      "                                ..\n",
      "Anh sợ chó.                      2\n",
      "bạn đã sai                       2\n",
      "im lặng một lát                  2\n",
      "đó là những gì tôi muốn biết     2\n",
      "điều này không giống bạn         2\n",
      "Name: count, Length: 8192, dtype: int64\n"
     ]
    }
   ],
   "source": [
    "count = df['vietnamese'].value_counts()\n",
    "duplicates = count[count > 1]\n",
    "if not duplicates.empty:\n",
    "    print(duplicates)"
   ]
  },
  {
   "cell_type": "markdown",
   "metadata": {},
   "source": [
    "- Overall, the data is quite rich and diverse. The number of words in the \"english\" column, counted using count is 254,080, and unique shows a similar pattern. This indicates that the words in the English column are abundant, varied, and non-repetitive. Each sentence in the column appears only once. However, in the \"vietnamese\" column, the situation is different: the count is 254,080, while the unique value is 244,007. The most frequently occurring sentence repeats up to 14 times. Upon querying and analyzing the data, it was found that there are multiple ways to express a single sentence in English, demonstrated through the use of synonyms like \"awesome,\" \"nice,\" and \"great.\""
   ]
  },
  {
   "cell_type": "markdown",
   "metadata": {},
   "source": [
    "## convert to lower"
   ]
  },
  {
   "cell_type": "code",
   "execution_count": 20,
   "metadata": {},
   "outputs": [],
   "source": [
    "def lower(x):\n",
    "    return x.lower()"
   ]
  },
  {
   "cell_type": "code",
   "execution_count": 21,
   "metadata": {},
   "outputs": [
    {
     "data": {
      "text/html": [
       "<div>\n",
       "<style scoped>\n",
       "    .dataframe tbody tr th:only-of-type {\n",
       "        vertical-align: middle;\n",
       "    }\n",
       "\n",
       "    .dataframe tbody tr th {\n",
       "        vertical-align: top;\n",
       "    }\n",
       "\n",
       "    .dataframe thead th {\n",
       "        text-align: right;\n",
       "    }\n",
       "</style>\n",
       "<table border=\"1\" class=\"dataframe\">\n",
       "  <thead>\n",
       "    <tr style=\"text-align: right;\">\n",
       "      <th></th>\n",
       "      <th>english</th>\n",
       "      <th>vietnamese</th>\n",
       "    </tr>\n",
       "  </thead>\n",
       "  <tbody>\n",
       "    <tr>\n",
       "      <th>0</th>\n",
       "      <td>please put the dustpan in the broom closet</td>\n",
       "      <td>xin vui lòng đặt người quét rác trong tủ chổi</td>\n",
       "    </tr>\n",
       "  </tbody>\n",
       "</table>\n",
       "</div>"
      ],
      "text/plain": [
       "                                      english  \\\n",
       "0  please put the dustpan in the broom closet   \n",
       "\n",
       "                                      vietnamese  \n",
       "0  xin vui lòng đặt người quét rác trong tủ chổi  "
      ]
     },
     "execution_count": 21,
     "metadata": {},
     "output_type": "execute_result"
    }
   ],
   "source": [
    "df['english']=df['english'].apply(lambda x: lower(str(x)))\n",
    "df['vietnamese']=df['vietnamese'].apply(lambda x: lower(str(x)))\n",
    "df.head(1)"
   ]
  },
  {
   "cell_type": "markdown",
   "metadata": {},
   "source": [
    "## remove speactial character"
   ]
  },
  {
   "cell_type": "code",
   "execution_count": 22,
   "metadata": {},
   "outputs": [],
   "source": [
    "# remove spectical character\n",
    "def remove_eng(x):\n",
    "    x=x.lower()\n",
    "    reg=r\"[a-zA-Zàáạảãâầấậẩẫăằắặẳẵèéẹẻẽêềếệểễìíịỉĩòóọỏõôồốộổỗơờớợởỡùúụủũưừứựửữỳýỵỷỹđ,\\.?!:;']+\"\n",
    "    y=re.findall(reg,x)\n",
    "    x=' '.join(y)\n",
    "    return x"
   ]
  },
  {
   "cell_type": "code",
   "execution_count": 23,
   "metadata": {},
   "outputs": [
    {
     "data": {
      "text/plain": [
       "\"hello, i'm vienvien. nice to meet you! ...\""
      ]
     },
     "execution_count": 23,
     "metadata": {},
     "output_type": "execute_result"
    }
   ],
   "source": [
    "a=\"hello, i'm VienVien. Nice to meet you! @#$ ...\"\n",
    "remove_eng(a)"
   ]
  },
  {
   "cell_type": "code",
   "execution_count": 24,
   "metadata": {},
   "outputs": [],
   "source": [
    "# remove spectical character\n",
    "def remove_vi(x):\n",
    "    x=x.lower()\n",
    "    reg = r\"[a-zA-Zàáạảãâầấậẩẫăằắặẳẵèéẹẻẽêềếệểễìíịỉĩòóọỏõôồốộổỗơờớợởỡùúụủũưừứựửữỳýỵỷỹđ,!.;:]+|\\.\\.\\.|\\\\\"\n",
    "    y=re.findall(reg,x)\n",
    "    x=' '.join(y)\n",
    "    return x"
   ]
  },
  {
   "cell_type": "markdown",
   "metadata": {},
   "source": [
    "## Remove rows containing words with accents in the \"english\" column."
   ]
  },
  {
   "cell_type": "code",
   "execution_count": 25,
   "metadata": {},
   "outputs": [
    {
     "data": {
      "text/html": [
       "<div>\n",
       "<style scoped>\n",
       "    .dataframe tbody tr th:only-of-type {\n",
       "        vertical-align: middle;\n",
       "    }\n",
       "\n",
       "    .dataframe tbody tr th {\n",
       "        vertical-align: top;\n",
       "    }\n",
       "\n",
       "    .dataframe thead th {\n",
       "        text-align: right;\n",
       "    }\n",
       "</style>\n",
       "<table border=\"1\" class=\"dataframe\">\n",
       "  <thead>\n",
       "    <tr style=\"text-align: right;\">\n",
       "      <th></th>\n",
       "      <th>english</th>\n",
       "      <th>vietnamese</th>\n",
       "    </tr>\n",
       "  </thead>\n",
       "  <tbody>\n",
       "    <tr>\n",
       "      <th>0</th>\n",
       "      <td>please put the dustpan in the broom closet</td>\n",
       "      <td>xin vui lòng đặt người quét rác trong tủ chổi</td>\n",
       "    </tr>\n",
       "  </tbody>\n",
       "</table>\n",
       "</div>"
      ],
      "text/plain": [
       "                                      english  \\\n",
       "0  please put the dustpan in the broom closet   \n",
       "\n",
       "                                      vietnamese  \n",
       "0  xin vui lòng đặt người quét rác trong tủ chổi  "
      ]
     },
     "execution_count": 25,
     "metadata": {},
     "output_type": "execute_result"
    }
   ],
   "source": [
    "def remove_vn_in_en(df):\n",
    "    re = r'[àáạảãâầấậẩẫăằắặẳẵèéẹẻẽêềếệểễìíịỉĩòóọỏõôồốộổỗơờớợởỡùúụủũưừứựửữỳýỵỷỹđ]'\n",
    "    df['pos'] = df['english'].str.contains(re, na=False)\n",
    "    df_cleaned = df.query('pos == False')[['english', 'vietnamese']]\n",
    "    # print(df_cleaned)\n",
    "    # df_cleaned = df_cleaned.drop(columns=['pos'])\n",
    "    return df_cleaned\n",
    "df = remove_vn_in_en(df)\n",
    "df.head(1)"
   ]
  },
  {
   "cell_type": "markdown",
   "metadata": {},
   "source": [
    "## remove extra space"
   ]
  },
  {
   "cell_type": "code",
   "execution_count": 26,
   "metadata": {},
   "outputs": [],
   "source": [
    "# def remove_extra_space(x):\n"
   ]
  },
  {
   "cell_type": "markdown",
   "metadata": {},
   "source": [
    "## stastic senten "
   ]
  },
  {
   "cell_type": "code",
   "execution_count": 27,
   "metadata": {},
   "outputs": [],
   "source": [
    "# def length_a(text):\n",
    "#     return len(text.split())"
   ]
  },
  {
   "cell_type": "code",
   "execution_count": 28,
   "metadata": {},
   "outputs": [],
   "source": [
    "# len_eng = df['english'].apply(lambda x: length_a(x)).tolist()"
   ]
  },
  {
   "cell_type": "code",
   "execution_count": 29,
   "metadata": {},
   "outputs": [],
   "source": [
    "# len_vi=df['vietnamese'].apply(lambda x: length_a(x)).to_list()"
   ]
  },
  {
   "cell_type": "code",
   "execution_count": 30,
   "metadata": {},
   "outputs": [],
   "source": [
    "df['len_en'] = df['english'].apply(lambda x: len(x.split()))\n",
    "df['len_vi'] = df['vietnamese'].apply(lambda x: len(x.split()))"
   ]
  },
  {
   "cell_type": "code",
   "execution_count": 31,
   "metadata": {},
   "outputs": [
    {
     "data": {
      "text/plain": [
       "count    254050.000000\n",
       "mean          6.773513\n",
       "std           2.702295\n",
       "min           1.000000\n",
       "25%           5.000000\n",
       "50%           6.000000\n",
       "75%           8.000000\n",
       "max          47.000000\n",
       "Name: len_en, dtype: float64"
      ]
     },
     "execution_count": 31,
     "metadata": {},
     "output_type": "execute_result"
    }
   ],
   "source": [
    "df['len_en'].describe()"
   ]
  },
  {
   "cell_type": "code",
   "execution_count": 32,
   "metadata": {},
   "outputs": [
    {
     "data": {
      "text/plain": [
       "np.int64(47)"
      ]
     },
     "execution_count": 32,
     "metadata": {},
     "output_type": "execute_result"
    }
   ],
   "source": [
    "df['len_en'].max()"
   ]
  },
  {
   "cell_type": "code",
   "execution_count": 33,
   "metadata": {},
   "outputs": [
    {
     "data": {
      "text/html": [
       "<div>\n",
       "<style scoped>\n",
       "    .dataframe tbody tr th:only-of-type {\n",
       "        vertical-align: middle;\n",
       "    }\n",
       "\n",
       "    .dataframe tbody tr th {\n",
       "        vertical-align: top;\n",
       "    }\n",
       "\n",
       "    .dataframe thead th {\n",
       "        text-align: right;\n",
       "    }\n",
       "</style>\n",
       "<table border=\"1\" class=\"dataframe\">\n",
       "  <thead>\n",
       "    <tr style=\"text-align: right;\">\n",
       "      <th></th>\n",
       "      <th>english</th>\n",
       "      <th>vietnamese</th>\n",
       "      <th>len_en</th>\n",
       "      <th>len_vi</th>\n",
       "    </tr>\n",
       "  </thead>\n",
       "  <tbody>\n",
       "    <tr>\n",
       "      <th>71517</th>\n",
       "      <td>if you want to sound like a native speaker, yo...</td>\n",
       "      <td>nếu bạn muốn nghe giống như người bản ngữ, bạn...</td>\n",
       "      <td>47</td>\n",
       "      <td>49</td>\n",
       "    </tr>\n",
       "  </tbody>\n",
       "</table>\n",
       "</div>"
      ],
      "text/plain": [
       "                                                 english  \\\n",
       "71517  if you want to sound like a native speaker, yo...   \n",
       "\n",
       "                                              vietnamese  len_en  len_vi  \n",
       "71517  nếu bạn muốn nghe giống như người bản ngữ, bạn...      47      49  "
      ]
     },
     "execution_count": 33,
     "metadata": {},
     "output_type": "execute_result"
    }
   ],
   "source": [
    "df.query(f'len_en == {df[\"len_en\"].max()}')"
   ]
  },
  {
   "cell_type": "code",
   "execution_count": 34,
   "metadata": {},
   "outputs": [
    {
     "data": {
      "text/html": [
       "<div>\n",
       "<style scoped>\n",
       "    .dataframe tbody tr th:only-of-type {\n",
       "        vertical-align: middle;\n",
       "    }\n",
       "\n",
       "    .dataframe tbody tr th {\n",
       "        vertical-align: top;\n",
       "    }\n",
       "\n",
       "    .dataframe thead th {\n",
       "        text-align: right;\n",
       "    }\n",
       "</style>\n",
       "<table border=\"1\" class=\"dataframe\">\n",
       "  <thead>\n",
       "    <tr style=\"text-align: right;\">\n",
       "      <th></th>\n",
       "      <th>english</th>\n",
       "      <th>vietnamese</th>\n",
       "      <th>len_en</th>\n",
       "      <th>len_vi</th>\n",
       "    </tr>\n",
       "  </thead>\n",
       "  <tbody>\n",
       "    <tr>\n",
       "      <th>2923</th>\n",
       "      <td>hi.</td>\n",
       "      <td>chào.</td>\n",
       "      <td>1</td>\n",
       "      <td>1</td>\n",
       "    </tr>\n",
       "    <tr>\n",
       "      <th>21201</th>\n",
       "      <td>jump!</td>\n",
       "      <td>nhảy đi</td>\n",
       "      <td>1</td>\n",
       "      <td>2</td>\n",
       "    </tr>\n",
       "    <tr>\n",
       "      <th>38017</th>\n",
       "      <td>go.</td>\n",
       "      <td>đi.</td>\n",
       "      <td>1</td>\n",
       "      <td>1</td>\n",
       "    </tr>\n",
       "    <tr>\n",
       "      <th>39773</th>\n",
       "      <td>fire!</td>\n",
       "      <td>ngọn lửa!</td>\n",
       "      <td>1</td>\n",
       "      <td>2</td>\n",
       "    </tr>\n",
       "    <tr>\n",
       "      <th>41257</th>\n",
       "      <td>who?</td>\n",
       "      <td>ai?</td>\n",
       "      <td>1</td>\n",
       "      <td>1</td>\n",
       "    </tr>\n",
       "    <tr>\n",
       "      <th>43171</th>\n",
       "      <td>perfect!</td>\n",
       "      <td>hoàn hảo!</td>\n",
       "      <td>1</td>\n",
       "      <td>2</td>\n",
       "    </tr>\n",
       "    <tr>\n",
       "      <th>47057</th>\n",
       "      <td>seriously?</td>\n",
       "      <td>nghiêm túc?</td>\n",
       "      <td>1</td>\n",
       "      <td>2</td>\n",
       "    </tr>\n",
       "    <tr>\n",
       "      <th>68938</th>\n",
       "      <td>listen.</td>\n",
       "      <td>nghe.</td>\n",
       "      <td>1</td>\n",
       "      <td>1</td>\n",
       "    </tr>\n",
       "    <tr>\n",
       "      <th>70848</th>\n",
       "      <td>terrific!</td>\n",
       "      <td>khủng khiếp!</td>\n",
       "      <td>1</td>\n",
       "      <td>2</td>\n",
       "    </tr>\n",
       "    <tr>\n",
       "      <th>122102</th>\n",
       "      <td>wonderful!</td>\n",
       "      <td>tuyệt vời!</td>\n",
       "      <td>1</td>\n",
       "      <td>2</td>\n",
       "    </tr>\n",
       "    <tr>\n",
       "      <th>129213</th>\n",
       "      <td>run!</td>\n",
       "      <td>chạy!</td>\n",
       "      <td>1</td>\n",
       "      <td>1</td>\n",
       "    </tr>\n",
       "    <tr>\n",
       "      <th>134951</th>\n",
       "      <td>hello!</td>\n",
       "      <td>xin chào!</td>\n",
       "      <td>1</td>\n",
       "      <td>2</td>\n",
       "    </tr>\n",
       "    <tr>\n",
       "      <th>141777</th>\n",
       "      <td>smile.</td>\n",
       "      <td>nụ cười.</td>\n",
       "      <td>1</td>\n",
       "      <td>2</td>\n",
       "    </tr>\n",
       "    <tr>\n",
       "      <th>147083</th>\n",
       "      <td>fantastic!</td>\n",
       "      <td>tuyệt diệu!</td>\n",
       "      <td>1</td>\n",
       "      <td>2</td>\n",
       "    </tr>\n",
       "    <tr>\n",
       "      <th>167645</th>\n",
       "      <td>freeze!</td>\n",
       "      <td>đông cứng!</td>\n",
       "      <td>1</td>\n",
       "      <td>2</td>\n",
       "    </tr>\n",
       "    <tr>\n",
       "      <th>181054</th>\n",
       "      <td>wait!</td>\n",
       "      <td>chờ đợi!</td>\n",
       "      <td>1</td>\n",
       "      <td>2</td>\n",
       "    </tr>\n",
       "    <tr>\n",
       "      <th>186528</th>\n",
       "      <td>goodbye!</td>\n",
       "      <td>tạm biệt!</td>\n",
       "      <td>1</td>\n",
       "      <td>2</td>\n",
       "    </tr>\n",
       "    <tr>\n",
       "      <th>205961</th>\n",
       "      <td>attack!</td>\n",
       "      <td>tấn công!</td>\n",
       "      <td>1</td>\n",
       "      <td>2</td>\n",
       "    </tr>\n",
       "    <tr>\n",
       "      <th>208111</th>\n",
       "      <td>definitely!</td>\n",
       "      <td>chắc chắn rồi</td>\n",
       "      <td>1</td>\n",
       "      <td>3</td>\n",
       "    </tr>\n",
       "    <tr>\n",
       "      <th>219779</th>\n",
       "      <td>really?</td>\n",
       "      <td>có thật không?</td>\n",
       "      <td>1</td>\n",
       "      <td>3</td>\n",
       "    </tr>\n",
       "    <tr>\n",
       "      <th>236876</th>\n",
       "      <td>cheers!</td>\n",
       "      <td>chúc mừng</td>\n",
       "      <td>1</td>\n",
       "      <td>2</td>\n",
       "    </tr>\n",
       "    <tr>\n",
       "      <th>242075</th>\n",
       "      <td>relax</td>\n",
       "      <td>thư giãn</td>\n",
       "      <td>1</td>\n",
       "      <td>2</td>\n",
       "    </tr>\n",
       "    <tr>\n",
       "      <th>246609</th>\n",
       "      <td>wait</td>\n",
       "      <td>chờ đợi</td>\n",
       "      <td>1</td>\n",
       "      <td>2</td>\n",
       "    </tr>\n",
       "    <tr>\n",
       "      <th>250763</th>\n",
       "      <td>help!</td>\n",
       "      <td>cứu giúp!</td>\n",
       "      <td>1</td>\n",
       "      <td>2</td>\n",
       "    </tr>\n",
       "    <tr>\n",
       "      <th>251152</th>\n",
       "      <td>jump.</td>\n",
       "      <td>nhảy.</td>\n",
       "      <td>1</td>\n",
       "      <td>1</td>\n",
       "    </tr>\n",
       "  </tbody>\n",
       "</table>\n",
       "</div>"
      ],
      "text/plain": [
       "            english      vietnamese  len_en  len_vi\n",
       "2923            hi.           chào.       1       1\n",
       "21201         jump!         nhảy đi       1       2\n",
       "38017           go.             đi.       1       1\n",
       "39773         fire!       ngọn lửa!       1       2\n",
       "41257          who?             ai?       1       1\n",
       "43171      perfect!       hoàn hảo!       1       2\n",
       "47057    seriously?     nghiêm túc?       1       2\n",
       "68938       listen.           nghe.       1       1\n",
       "70848     terrific!    khủng khiếp!       1       2\n",
       "122102   wonderful!      tuyệt vời!       1       2\n",
       "129213         run!           chạy!       1       1\n",
       "134951       hello!       xin chào!       1       2\n",
       "141777       smile.        nụ cười.       1       2\n",
       "147083   fantastic!     tuyệt diệu!       1       2\n",
       "167645      freeze!      đông cứng!       1       2\n",
       "181054        wait!        chờ đợi!       1       2\n",
       "186528     goodbye!       tạm biệt!       1       2\n",
       "205961      attack!       tấn công!       1       2\n",
       "208111  definitely!   chắc chắn rồi       1       3\n",
       "219779      really?  có thật không?       1       3\n",
       "236876      cheers!       chúc mừng       1       2\n",
       "242075        relax        thư giãn       1       2\n",
       "246609         wait         chờ đợi       1       2\n",
       "250763        help!       cứu giúp!       1       2\n",
       "251152        jump.           nhảy.       1       1"
      ]
     },
     "execution_count": 34,
     "metadata": {},
     "output_type": "execute_result"
    }
   ],
   "source": [
    "df.query(f'len_en == {df[\"len_en\"].min()}')"
   ]
  },
  {
   "cell_type": "code",
   "execution_count": 35,
   "metadata": {},
   "outputs": [
    {
     "data": {
      "text/plain": [
       "len_en\n",
       "1        25\n",
       "2      2996\n",
       "3     16034\n",
       "4     30102\n",
       "5     40317\n",
       "6     42538\n",
       "7     37860\n",
       "8     28614\n",
       "9     20067\n",
       "10    12900\n",
       "11     8511\n",
       "12     5319\n",
       "13     3348\n",
       "14     2194\n",
       "15     1315\n",
       "16      829\n",
       "17      319\n",
       "18      236\n",
       "19      154\n",
       "20       97\n",
       "21       53\n",
       "22       63\n",
       "23       40\n",
       "24       32\n",
       "25       21\n",
       "26       11\n",
       "27       12\n",
       "28        7\n",
       "29        4\n",
       "30        9\n",
       "31        4\n",
       "32        5\n",
       "33        1\n",
       "34        3\n",
       "35        2\n",
       "36        1\n",
       "37        1\n",
       "38        1\n",
       "39        1\n",
       "43        1\n",
       "44        2\n",
       "47        1\n",
       "Name: count, dtype: int64"
      ]
     },
     "execution_count": 35,
     "metadata": {},
     "output_type": "execute_result"
    }
   ],
   "source": [
    "a=df['len_en'].value_counts().sort_index() #values and count, 2 xh 2996 lan\n",
    "b=df['len_vi'].value_counts().sort_index()\n",
    "a"
   ]
  },
  {
   "cell_type": "code",
   "execution_count": 36,
   "metadata": {},
   "outputs": [
    {
     "data": {
      "image/png": "[encoded data removed]",
      "text/plain": [
       "<Figure size 1000x500 with 1 Axes>"
      ]
     },
     "metadata": {},
     "output_type": "display_data"
    }
   ],
   "source": [
    "plt.figure(figsize=(10, 5))\n",
    "plt.scatter(a.index,a.values, alpha=0.7,label='English', color='blue')\n",
    "plt.scatter(b.index,b.values, alpha=0.7,label='Vietnamese', color='orange')\n",
    "plt.title('Scatter Plot of Sentence Length vs Frequency')\n",
    "plt.xlabel('Sentence Length (characters)')\n",
    "plt.ylabel('Number of Sentences')\n",
    "plt.legend()\n",
    "plt.grid(alpha=0.3)"
   ]
  },
  {
   "cell_type": "code",
   "execution_count": 38,
   "metadata": {},
   "outputs": [],
   "source": [
    "# df['vietnamese']=df['vietnamese'].apply(lambda x: word_tokenize(x))"
   ]
  },
  {
   "cell_type": "code",
   "execution_count": 39,
   "metadata": {},
   "outputs": [],
   "source": [
    "# df.head(6)"
   ]
  },
  {
   "cell_type": "code",
   "execution_count": 40,
   "metadata": {},
   "outputs": [],
   "source": [
    "# !python -m spacy download en_core_web_sm\n"
   ]
  },
  {
   "cell_type": "code",
   "execution_count": 41,
   "metadata": {},
   "outputs": [],
   "source": [
    "# import spacy\n",
    "# nlp = spacy.load(\"en_core_web_sm\")\n",
    "# doc = nlp(\"This is a sentence.\")\n"
   ]
  },
  {
   "cell_type": "code",
   "execution_count": 42,
   "metadata": {},
   "outputs": [],
   "source": [
    "# print([token.text for token in doc])"
   ]
  },
  {
   "cell_type": "code",
   "execution_count": 43,
   "metadata": {},
   "outputs": [],
   "source": [
    "# df['t'] = df['english'].apply(lambda x: [token.text for token in nlp(x)])"
   ]
  }
 ],
 "metadata": {
  "kernelspec": {
   "display_name": "Python 3",
   "language": "python",
   "name": "python3"
  },
  "language_info": {
   "codemirror_mode": {
    "name": "ipython",
    "version": 3
   },
   "file_extension": ".py",
   "mimetype": "text/x-python",
   "name": "python",
   "nbconvert_exporter": "python",
   "pygments_lexer": "ipython3",
   "version": "3.10.0"
  }
 },
 "nbformat": 4,
 "nbformat_minor": 2
}
